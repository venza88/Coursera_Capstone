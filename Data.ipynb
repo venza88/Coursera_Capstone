{
 "cells": [
  {
   "cell_type": "markdown",
   "metadata": {},
   "source": [
    "## Data"
   ]
  },
  {
   "cell_type": "markdown",
   "metadata": {},
   "source": [
    "Based on definition of our problem, informations that will need are:\n",
    "* list of capitals cities with population and area(if I can find this information in no\n",
    "* geografical coordinats for every city\n",
    "* venues in every city for clustering (how many and what we have in every capital)\n",
    "\n",
    "We can take more accurate information if we will use information based by venues in neighborhoods in every cities, but for first look choose we wouldn't use it.\n",
    "\n",
    "Following data sources will be needed to extract/generate the required information:\n",
    "* list of capitals with population we take from **Wiki** https://en.wikipedia.org/wiki/List_of_national_capitals_by_population\n",
    "* coordinates cities will be obtained using **Nominatim from geopy.geocoders libriries**\n",
    "* venues will be obtained using **Foursquare API**"
   ]
  },
  {
   "cell_type": "code",
   "execution_count": null,
   "metadata": {},
   "outputs": [],
   "source": []
  }
 ],
 "metadata": {
  "kernelspec": {
   "display_name": "Python 3",
   "language": "python",
   "name": "python3"
  },
  "language_info": {
   "codemirror_mode": {
    "name": "ipython",
    "version": 3
   },
   "file_extension": ".py",
   "mimetype": "text/x-python",
   "name": "python",
   "nbconvert_exporter": "python",
   "pygments_lexer": "ipython3",
   "version": "3.7.4"
  }
 },
 "nbformat": 4,
 "nbformat_minor": 4
}
