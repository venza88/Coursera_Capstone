{
 "cells": [
  {
   "cell_type": "markdown",
   "metadata": {},
   "source": [
    "# Capstone Project - The Battle of the Neighborhoods (Week 5)\n",
    "#### Applied Data Science Capstone by IBM/Coursera"
   ]
  },
  {
   "cell_type": "markdown",
   "metadata": {},
   "source": [
    "## Clustering National Capitals for Travelers"
   ]
  },
  {
   "cell_type": "markdown",
   "metadata": {},
   "source": [
    "## Table of contents\n",
    "* [Introduction: Business Problem](#introduction)\n",
    "* [Data](#data)\n",
    "* [Methodology](#methodology)\n",
    "* [Analysis](#analysis)\n",
    "* [Results and Discussion](#results)\n",
    "* [Conclusion](#conclusion)"
   ]
  },
  {
   "cell_type": "markdown",
   "metadata": {},
   "source": [
    "## Introduction: Business Problem <a name=\"introduction\"></a>"
   ]
  },
  {
   "cell_type": "markdown",
   "metadata": {},
   "source": [
    "In this project we will try to clustering national capitals cities. Specifically, this report will be targeted to stakeholders interested in travels to come to see the same or different cities, or to those who worked in tourism business.\n",
    "\n",
    "Since we don't use information about how much cost this trip, we can help with choose destination for criteria how similar some cities with those he came to see before.\n",
    "\n",
    "And for this we use tools from data sciences which we learned before."
   ]
  },
  {
   "cell_type": "markdown",
   "metadata": {},
   "source": [
    "## Data <a name=\"data\"></a>"
   ]
  },
  {
   "cell_type": "markdown",
   "metadata": {},
   "source": [
    "Based on definition of our problem, informations that will need are:\n",
    "* list of capitals cities with population and area(if I can find this information in no\n",
    "* geografical coordinats for every city\n",
    "* venues in every city for clustering (how many and what we have in every capital)\n",
    "\n",
    "We can take more accurate information if we will use information based by venues in neighborhoods in every cities, but for first look choose we wouldn't use it.\n",
    "\n",
    "Following data sources will be needed to extract/generate the required information:\n",
    "* list of capitals with population we take from **Wiki** https://en.wikipedia.org/wiki/List_of_national_capitals_by_population\n",
    "* coordinates cities will be obtained using **Nominatim from geopy.geocoders libriries**\n",
    "* venues will be obtained using **Foursquare API**"
   ]
  },
  {
   "cell_type": "code",
   "execution_count": null,
   "metadata": {},
   "outputs": [],
   "source": []
  }
 ],
 "metadata": {
  "kernelspec": {
   "display_name": "Python 3",
   "language": "python",
   "name": "python3"
  },
  "language_info": {
   "codemirror_mode": {
    "name": "ipython",
    "version": 3
   },
   "file_extension": ".py",
   "mimetype": "text/x-python",
   "name": "python",
   "nbconvert_exporter": "python",
   "pygments_lexer": "ipython3",
   "version": "3.7.4"
  }
 },
 "nbformat": 4,
 "nbformat_minor": 4
}
